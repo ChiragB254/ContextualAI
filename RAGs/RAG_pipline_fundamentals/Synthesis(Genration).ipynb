{
 "cells": [
  {
   "cell_type": "code",
   "execution_count": 44,
   "id": "e9d21888",
   "metadata": {},
   "outputs": [
    {
     "data": {
      "text/plain": [
       "True"
      ]
     },
     "execution_count": 44,
     "metadata": {},
     "output_type": "execute_result"
    }
   ],
   "source": [
    "from dotenv import load_dotenv\n",
    "import os\n",
    "\n",
    "load_dotenv()"
   ]
  },
  {
   "cell_type": "markdown",
   "id": "7e97e94f",
   "metadata": {},
   "source": [
    "## 🧠 **User Query**"
   ]
  },
  {
   "cell_type": "code",
   "execution_count": 45,
   "id": "42ab6e45",
   "metadata": {},
   "outputs": [],
   "source": [
    "query = \"Is it charge any international charges?\""
   ]
  },
  {
   "cell_type": "markdown",
   "id": "001729e3",
   "metadata": {},
   "source": [
    "### VecDB and Retriever Part same as previous parts "
   ]
  },
  {
   "cell_type": "code",
   "execution_count": 46,
   "id": "de2ff2a6",
   "metadata": {},
   "outputs": [],
   "source": [
    "from langchain.vectorstores import faiss\n",
    "from langchain.embeddings import AzureOpenAIEmbeddings"
   ]
  },
  {
   "cell_type": "code",
   "execution_count": 47,
   "id": "c35226fb",
   "metadata": {},
   "outputs": [],
   "source": [
    "embeddings = AzureOpenAIEmbeddings(\n",
    "\tazure_endpoint=os.environ[\"AZURE_OPENAI_ENDPOINT\"],\n",
    "    \tazure_deployment=os.environ[\"AZURE_OPENAI_EMBEDDING_DEPLOYMENT_NAME\"],\n",
    "    \topenai_api_version=os.environ[\"AZURE_OPENAI_EMBEDDING_API_VERSION\"],\n",
    "    \tmodel=\"text-embedding-3-small\",\n",
    "\tchunk_size=1\n",
    "    )"
   ]
  },
  {
   "cell_type": "code",
   "execution_count": 48,
   "id": "f8ee20fc",
   "metadata": {},
   "outputs": [],
   "source": [
    "faiss_index = faiss.FAISS.load_local(\"my_faiss_index\", embeddings ,allow_dangerous_deserialization=True)"
   ]
  },
  {
   "cell_type": "code",
   "execution_count": 49,
   "id": "23105eda",
   "metadata": {},
   "outputs": [],
   "source": [
    "retriever = faiss_index.as_retriever(search_kwargs={\"k\": 3})"
   ]
  },
  {
   "cell_type": "markdown",
   "id": "d0844756",
   "metadata": {},
   "source": [
    "## 🧱 **Context Assembly**\n",
    "\n",
    "This step combines the relevant retrieved chunks into a single prompt context."
   ]
  },
  {
   "cell_type": "code",
   "execution_count": 50,
   "id": "cba6fc54",
   "metadata": {},
   "outputs": [],
   "source": [
    "contexts = retriever.get_relevant_documents(query)\n",
    "context = \"\\n\\n\".join([doc.page_content for doc in contexts])"
   ]
  },
  {
   "cell_type": "markdown",
   "id": "e540cd46",
   "metadata": {},
   "source": [
    "## 📝 **Prompt Formatting**\n",
    "\n",
    "The context and user query are formatted into a structured prompt for the language model."
   ]
  },
  {
   "cell_type": "code",
   "execution_count": 51,
   "id": "81dbb7ff",
   "metadata": {},
   "outputs": [],
   "source": [
    "from langchain.prompts import ChatPromptTemplate"
   ]
  },
  {
   "cell_type": "code",
   "execution_count": 52,
   "id": "a1bf83e4",
   "metadata": {},
   "outputs": [],
   "source": [
    "prompt = \"\"\"\n",
    "You are a customer service agent for a mobile phone company. You have been given the following information about the customer query and the context.\n",
    "Customer Query: {query}\n",
    "Context: {context}\n",
    "\n",
    "Answer: \n",
    "Your task is to answer the customer query based on the context provided.\n",
    "Please answer in a friendly and professional manner.\n",
    "\"\"\""
   ]
  },
  {
   "cell_type": "code",
   "execution_count": null,
   "id": "f2a3e4ab",
   "metadata": {},
   "outputs": [
    {
     "name": "stdout",
     "output_type": "stream",
     "text": [
      "\n",
      "You are a customer service agent for a mobile phone company. You have been given the following information about the customer query and the context.\n",
      "Customer Query: Is it charge any international charges?\n",
      "Context: and may be restricted to the original country of sale. Call \n",
      "charges and international shipping charges may apply, \n",
      "depending on the location. Subject to the full terms and \n",
      "detailed information on obtaining service available at \n",
      "apple.com/legal/warranty  and support.apple.com , if yo\n"
     ]
    }
   ],
   "source": [
    "final_prompt = prompt.format(context=context, query=query)\n",
    "print(final_prompt[:500]+\"...\")"
   ]
  },
  {
   "cell_type": "markdown",
   "id": "17cc7a2b",
   "metadata": {},
   "source": [
    "## 🤖 **Language Model Input**\n",
    "\n",
    "The final prompt is passed to the LLM for answer generation."
   ]
  },
  {
   "cell_type": "code",
   "execution_count": 54,
   "id": "d9a93ea2",
   "metadata": {},
   "outputs": [],
   "source": [
    "from langchain.chat_models import AzureChatOpenAI"
   ]
  },
  {
   "cell_type": "code",
   "execution_count": 55,
   "id": "a3f88ee9",
   "metadata": {},
   "outputs": [],
   "source": [
    "llm = AzureChatOpenAI(\n",
    "    azure_endpoint=os.environ[\"AZURE_OPENAI_ENDPOINT\"],\n",
    "    azure_deployment=os.environ[\"AZURE_OPENAI_CHAT_DEPLOYMENT_NAME\"],\n",
    "    openai_api_version=os.environ[\"AZURE_OPENAI_CHAT_API_VERSION\"],\n",
    ")"
   ]
  },
  {
   "cell_type": "markdown",
   "id": "60928572",
   "metadata": {},
   "source": [
    "## 🧠 **Response Generation**\n",
    "\n",
    "The language model returns an answer based on the given context."
   ]
  },
  {
   "cell_type": "code",
   "execution_count": 56,
   "id": "54784248",
   "metadata": {},
   "outputs": [
    {
     "name": "stderr",
     "output_type": "stream",
     "text": [
      "/var/folders/39/wh_jffd90vv2lczbpfngvr200000gn/T/ipykernel_40419/3024218951.py:2: LangChainDeprecationWarning: The method `BaseChatModel.__call__` was deprecated in langchain-core 0.1.7 and will be removed in 1.0. Use :meth:`~invoke` instead.\n",
      "  response = llm([HumanMessage(content=final_prompt)])\n"
     ]
    }
   ],
   "source": [
    "from langchain.schema import HumanMessage\n",
    "response = llm([HumanMessage(content=final_prompt)])"
   ]
  },
  {
   "cell_type": "code",
   "execution_count": 57,
   "id": "215425e6",
   "metadata": {},
   "outputs": [
    {
     "name": "stdout",
     "output_type": "stream",
     "text": [
      "Thank you for reaching out! Regarding your question about international charges, it’s important to note that call charges and international shipping charges may apply depending on your location. If you’re looking to make calls or use services that incur international fees, those charges will vary based on your specific plan and destination. \n",
      "\n",
      "For the most accurate information, I recommend checking your mobile plan details or contacting your service provider directly. If you have any more questions or need further assistance, feel free to ask!\n"
     ]
    }
   ],
   "source": [
    "print(response.content)"
   ]
  },
  {
   "cell_type": "markdown",
   "id": "8089e8a5",
   "metadata": {},
   "source": [
    "## 📤 **Answer Output (Post-processing)**\n",
    "\n",
    "The final answer is displayed to the user. It can be returned in chat, UI, or API response."
   ]
  },
  {
   "cell_type": "code",
   "execution_count": 58,
   "id": "2b47612d",
   "metadata": {},
   "outputs": [
    {
     "name": "stdout",
     "output_type": "stream",
     "text": [
      "\n",
      "✅ Final Answer:\n",
      " Thank you for reaching out! Regarding your question about international charges, it’s important to note that call charges and international shipping charges may apply depending on your location. If you’re looking to make calls or use services that incur international fees, those charges will vary based on your specific plan and destination. \n",
      "\n",
      "For the most accurate information, I recommend checking your mobile plan details or contacting your service provider directly. If you have any more questions or need further assistance, feel free to ask!\n"
     ]
    }
   ],
   "source": [
    "answer = response.content\n",
    "print(\"\\n✅ Final Answer:\\n\", answer)"
   ]
  },
  {
   "cell_type": "markdown",
   "id": "6a0e2eac",
   "metadata": {},
   "source": [
    "<strong><h1 style=\"text-align: center\">End of Notebook</h1></strong></div>"
   ]
  },
  {
   "cell_type": "markdown",
   "id": "7a1af3cb",
   "metadata": {},
   "source": []
  }
 ],
 "metadata": {
  "kernelspec": {
   "display_name": "LLMs-env",
   "language": "python",
   "name": "python3"
  },
  "language_info": {
   "codemirror_mode": {
    "name": "ipython",
    "version": 3
   },
   "file_extension": ".py",
   "mimetype": "text/x-python",
   "name": "python",
   "nbconvert_exporter": "python",
   "pygments_lexer": "ipython3",
   "version": "3.10.14"
  }
 },
 "nbformat": 4,
 "nbformat_minor": 5
}
