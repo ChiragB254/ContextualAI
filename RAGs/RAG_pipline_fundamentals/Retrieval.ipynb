{
 "cells": [
  {
   "cell_type": "markdown",
   "id": "2b9e423f",
   "metadata": {},
   "source": [
    "## 🧠 1. User Query"
   ]
  },
  {
   "cell_type": "code",
   "execution_count": 11,
   "id": "c55bb830",
   "metadata": {},
   "outputs": [],
   "source": [
    "query = \"Is it charge any international charges?\""
   ]
  },
  {
   "cell_type": "markdown",
   "id": "1af8ae48",
   "metadata": {},
   "source": [
    "## ✅ Important Retriever Methods to Know\n",
    "\n",
    "Here's what you’ll mostly use:\n",
    "\n",
    "| Method | Description |\n",
    "|--------|-------------|\n",
    "| `get_relevant_documents(query)` | Main method — gets the top `k` chunks that are semantically similar to your query. |\n",
    "| `as_retriever(**kwargs)` | Converts your vectorstore (like FAISS) into a retriever. You can pass search settings here like `k`. |\n",
    "| `add_documents(docs)` | Add more docs to your index (useful for dynamic updates). |\n",
    "\n",
    "---"
   ]
  },
  {
   "cell_type": "markdown",
   "id": "e68977e8",
   "metadata": {},
   "source": [
    "### ➕ Retriever for:\n",
    "- Adding **filters** (e.g., only return docs with `source='terms_and_conditions'`)\n",
    "- Combining multiple retrievers (like metadata filtering + semantic search)\n",
    "- Switching to a different backend (e.g., Chroma, Qdrant) without changing your code\n",
    "\n",
    "---"
   ]
  },
  {
   "cell_type": "markdown",
   "id": "4e0dcdd5",
   "metadata": {},
   "source": [
    "## 🔄 2. Query Conversion"
   ]
  },
  {
   "cell_type": "code",
   "execution_count": 12,
   "id": "cd8ef5e8",
   "metadata": {},
   "outputs": [
    {
     "data": {
      "text/plain": [
       "True"
      ]
     },
     "execution_count": 12,
     "metadata": {},
     "output_type": "execute_result"
    }
   ],
   "source": [
    "from dotenv import load_dotenv\n",
    "import os\n",
    "\n",
    "load_dotenv()"
   ]
  },
  {
   "cell_type": "code",
   "execution_count": 13,
   "id": "e0a44220",
   "metadata": {},
   "outputs": [],
   "source": [
    "from langchain_openai import AzureOpenAIEmbeddings"
   ]
  },
  {
   "cell_type": "code",
   "execution_count": 14,
   "id": "95e2f532",
   "metadata": {},
   "outputs": [],
   "source": [
    "embd = AzureOpenAIEmbeddings(\n",
    "    azure_endpoint=os.environ[\"AZURE_OPENAI_ENDPOINT\"],\n",
    "    azure_deployment=os.environ[\"AZURE_OPENAI_EMBEDDING_DEPLOYMENT_NAME\"],\n",
    "    openai_api_version=os.environ[\"AZURE_OPENAI_EMBEDDING_API_VERSION\"],\n",
    "    model=\"text-embedding-3-small\"\n",
    "    )"
   ]
  },
  {
   "cell_type": "code",
   "execution_count": 15,
   "id": "bf641514",
   "metadata": {},
   "outputs": [],
   "source": [
    "query_vector = embd.embed_query(query)"
   ]
  },
  {
   "cell_type": "markdown",
   "id": "b1bc21e1",
   "metadata": {},
   "source": [
    "## 📏 3. Vector Comparison"
   ]
  },
  {
   "cell_type": "code",
   "execution_count": null,
   "id": "a7343b52",
   "metadata": {},
   "outputs": [],
   "source": [
    "from langchain import hub\n",
    "from langchain_community.vectorstores import FAISS"
   ]
  },
  {
   "cell_type": "code",
   "execution_count": 17,
   "id": "aecb3888",
   "metadata": {},
   "outputs": [],
   "source": [
    "new_index = FAISS.load_local(\"my_faiss_index\", embd, allow_dangerous_deserialization=True)"
   ]
  },
  {
   "cell_type": "markdown",
   "id": "0cc4ee98",
   "metadata": {},
   "source": [
    "## 🔝 4. Top-K Retrieval"
   ]
  },
  {
   "cell_type": "code",
   "execution_count": 18,
   "id": "118551b0",
   "metadata": {},
   "outputs": [],
   "source": [
    "retriever = new_index.as_retriever(search_kwargs={\"k\": 2})"
   ]
  },
  {
   "cell_type": "markdown",
   "id": "f203e1eb",
   "metadata": {},
   "source": [
    "## 📚 5. Data Retrieval"
   ]
  },
  {
   "cell_type": "code",
   "execution_count": 21,
   "id": "d00c2542",
   "metadata": {},
   "outputs": [],
   "source": [
    "top_k_docs = retriever.get_relevant_documents(query)"
   ]
  },
  {
   "cell_type": "code",
   "execution_count": 22,
   "id": "726dc7fa",
   "metadata": {},
   "outputs": [
    {
     "name": "stdout",
     "output_type": "stream",
     "text": [
      "Doc 1: and may be restricted to the original country of sale. Call \n",
      "charges and international shipping charges may apply, \n",
      "depending on the location. Subject to the full terms and \n",
      "detailed information on obtaining service available at \n",
      "apple.com/legal/warranty  and support.apple.com , if you \n",
      "submit a val \n",
      "\n",
      "Doc 2: Before using iPhone, review the iPhone User Guide  at  \n",
      "support.apple.com/guide/iphone .\n",
      "Safety and Handling\n",
      "See “Safety, handling, and support” in the iPhone  \n",
      "User Guide.\n",
      "Exposure to Radio Frequency\n",
      "On iPhone, go to Settings > General > Legal &  \n",
      "Regulatory > RF Exposure. Or go to apple.com/ \n",
      "lega \n",
      "\n"
     ]
    }
   ],
   "source": [
    "for i, doc in enumerate(top_k_docs, 1):\n",
    "    print(f\"Doc {i}:\", doc.page_content[:300], '\\n')"
   ]
  },
  {
   "cell_type": "markdown",
   "id": "94a2c2e3",
   "metadata": {},
   "source": [
    "## 🆚 retriever.get_relevant_documents() vs faiss_index.similarity_search()\n",
    "\n",
    "At a high level, **they both do the same thing**: find documents most relevant to a query.\n",
    "\n",
    "But here’s the **real difference**:\n",
    "\n",
    "| Feature | `retriever.get_relevant_documents()` | `faiss_index.similarity_search()` |\n",
    "|--------|---------------------------------------|------------------------------------|\n",
    "| **Interface** | Follows LangChain's `Retriever` interface | Direct call to the vector DB (FAISS) |\n",
    "| **Use case** | Preferred in RAG pipelines and LangChain chains | Good for testing/debugging |\n",
    "| **Flexibility** | You can plug in filters, hybrid search, etc. | Raw semantic search only |\n",
    "| **Standardized** | Works across multiple vector stores | Tied to FAISS |\n",
    "| **Returns** | List of `Document` objects | Same |\n",
    "\n",
    "---\n"
   ]
  },
  {
   "cell_type": "markdown",
   "id": "1c429c27",
   "metadata": {},
   "source": [
    "## 🏁 Summary\n",
    "\n",
    "| Concept | Think of it as... |\n",
    "|--------|--------------------|\n",
    "| `similarity_search()` | A raw query to the FAISS engine |\n",
    "| `get_relevant_documents()` | A standardized method to retrieve top docs for a query — the RAG-friendly way |\n",
    "| `Retriever` | A wrapper that lets you swap out vector DBs and methods easily |\n",
    "\n",
    "---"
   ]
  }
 ],
 "metadata": {
  "kernelspec": {
   "display_name": "LLMs-env",
   "language": "python",
   "name": "python3"
  },
  "language_info": {
   "codemirror_mode": {
    "name": "ipython",
    "version": 3
   },
   "file_extension": ".py",
   "mimetype": "text/x-python",
   "name": "python",
   "nbconvert_exporter": "python",
   "pygments_lexer": "ipython3",
   "version": "3.10.14"
  }
 },
 "nbformat": 4,
 "nbformat_minor": 5
}
