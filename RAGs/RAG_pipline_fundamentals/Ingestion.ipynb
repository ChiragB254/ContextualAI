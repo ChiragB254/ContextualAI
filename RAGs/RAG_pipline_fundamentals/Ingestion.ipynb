{
 "cells": [
  {
   "cell_type": "code",
   "execution_count": 1,
   "id": "f3c61aff",
   "metadata": {},
   "outputs": [
    {
     "data": {
      "text/plain": [
       "True"
      ]
     },
     "execution_count": 1,
     "metadata": {},
     "output_type": "execute_result"
    }
   ],
   "source": [
    "'''\n",
    "Load environment variables from a .env file\n",
    "This script is used to load environment variables from a .env file\n",
    "into the environment so that they can be accessed by the application.\n",
    "This is useful for managing sensitive information such as API keys,\n",
    "database credentials, and other configuration settings.\n",
    "'''\n",
    "\n",
    "from dotenv import load_dotenv\n",
    "import os\n",
    "\n",
    "load_dotenv()"
   ]
  },
  {
   "cell_type": "code",
   "execution_count": 2,
   "id": "14b74aea",
   "metadata": {},
   "outputs": [],
   "source": [
    "# 📦 Importing necessary libraries\n",
    "from langchain import hub\n",
    "from langchain.text_splitter import RecursiveCharacterTextSplitter\n",
    "from langchain_community.vectorstores import FAISS\n",
    "from langchain.document_loaders import PyPDFLoader\n",
    "from langchain_openai import AzureOpenAIEmbeddings\n",
    "import tiktoken\n",
    "import numpy as np"
   ]
  },
  {
   "cell_type": "markdown",
   "id": "95010433",
   "metadata": {},
   "source": [
    "## 📚 Chunking\n",
    "Text documents are broken into smaller, manageable chunks.\n",
    "\n",
    "Chunking allows us to manage large documents by processing them in smaller, digestible pieces."
   ]
  },
  {
   "cell_type": "code",
   "execution_count": 3,
   "id": "353bced8",
   "metadata": {},
   "outputs": [],
   "source": [
    "# Document\n",
    "question = \"What kinds of pets do I like?\"\n",
    "document = \"My favorite pet is a cat.\""
   ]
  },
  {
   "cell_type": "code",
   "execution_count": 4,
   "id": "2878a7f6",
   "metadata": {},
   "outputs": [
    {
     "data": {
      "text/plain": [
       "8"
      ]
     },
     "execution_count": 4,
     "metadata": {},
     "output_type": "execute_result"
    }
   ],
   "source": [
    "def num_tokens_from_string(string: str, encoding_name: str) -> int:\n",
    "    \"\"\"\n",
    "    Returns the number of tokens in a text string using the specified encoding.\n",
    "\n",
    "    Parameters:\n",
    "    - string (str): The input text to be tokenized.\n",
    "    - encoding_name (str): The name of the tokenizer encoding to use (e.g., 'cl100k_base').\n",
    "\n",
    "    Returns:\n",
    "    - int: Total number of tokens in the input string.\n",
    "    \"\"\"\n",
    "    # Get the encoding method using the provided encoding name\n",
    "    encoding = tiktoken.get_encoding(encoding_name)\n",
    "\n",
    "    # Encode the string into tokens and count them\n",
    "    num_tokens = len(encoding.encode(string))\n",
    "\n",
    "    # Return the total number of tokens\n",
    "    return num_tokens\n",
    "\n",
    "# Example usage: Count tokens in a question string using the 'cl100k_base' encoding\n",
    "num_tokens_from_string(question, \"cl100k_base\")\n"
   ]
  },
  {
   "cell_type": "code",
   "execution_count": 5,
   "id": "f58f1c21",
   "metadata": {},
   "outputs": [],
   "source": [
    "# Load a PDF document\n",
    "\n",
    "loader = PyPDFLoader(\"sample.pdf\")\n",
    "documents = loader.load()"
   ]
  },
  {
   "cell_type": "code",
   "execution_count": 6,
   "id": "1f13e6b3",
   "metadata": {},
   "outputs": [],
   "source": [
    "# ✂️ Splitting the document into chunks\n",
    "text_splitter = RecursiveCharacterTextSplitter.from_tiktoken_encoder(\n",
    "    chunk_size=200, \n",
    "    chunk_overlap=50)\n",
    "\n",
    "# Make splits\n",
    "splits = text_splitter.split_documents(documents)"
   ]
  },
  {
   "cell_type": "code",
   "execution_count": 7,
   "id": "f6ad961c",
   "metadata": {},
   "outputs": [
    {
     "data": {
      "text/plain": [
       "10"
      ]
     },
     "execution_count": 7,
     "metadata": {},
     "output_type": "execute_result"
    }
   ],
   "source": [
    "# Count the number of splits\n",
    "len(splits)"
   ]
  },
  {
   "cell_type": "markdown",
   "id": "620a7b1c",
   "metadata": {},
   "source": [
    "## 🧠 Embeddings\n",
    "Each chunk is converted into a numerical vector representation using an embedding model.\n",
    "\n",
    "Embeddings transform each chunk into a vector that captures its semantic meaning."
   ]
  },
  {
   "cell_type": "code",
   "execution_count": 8,
   "id": "18a95a72",
   "metadata": {},
   "outputs": [],
   "source": [
    "# 🧠 Creating vector embeddings using Azure OpenAI\n",
    "embd = AzureOpenAIEmbeddings(\n",
    "    azure_endpoint=os.environ[\"AZURE_OPENAI_ENDPOINT\"],\n",
    "    azure_deployment=os.environ[\"AZURE_OPENAI_EMBEDDING_DEPLOYMENT_NAME\"],\n",
    "    openai_api_version=os.environ[\"AZURE_OPENAI_EMBEDDING_API_VERSION\"],\n",
    "    model=\"text-embedding-3-small\"\n",
    "    )"
   ]
  },
  {
   "cell_type": "code",
   "execution_count": 9,
   "id": "4564f9e5",
   "metadata": {},
   "outputs": [
    {
     "data": {
      "text/plain": [
       "1536"
      ]
     },
     "execution_count": 9,
     "metadata": {},
     "output_type": "execute_result"
    }
   ],
   "source": [
    "# Embedding\n",
    "query_result = embd.embed_query(question)\n",
    "document_result = embd.embed_query(document)\n",
    "\n",
    "# Embedding Dimensions\n",
    "len(query_result)"
   ]
  },
  {
   "cell_type": "markdown",
   "id": "2003320a",
   "metadata": {},
   "source": [
    "## 🗂️ Indexing\n",
    "The document embeddings are added to a FAISS vector store for similarity-based retrieval.\n",
    "\n",
    "These vector embeddings are indexed using FAISS, enabling efficient similarity searches later."
   ]
  },
  {
   "cell_type": "code",
   "execution_count": 10,
   "id": "2821c6c4",
   "metadata": {},
   "outputs": [],
   "source": [
    "# Create FAISS index (vectorstore)\n",
    "faiss_index = FAISS.from_documents(\n",
    "    splits, \n",
    "    embedding=embd,\n",
    ")"
   ]
  },
  {
   "cell_type": "code",
   "execution_count": 11,
   "id": "c1d20a01",
   "metadata": {},
   "outputs": [
    {
     "name": "stdout",
     "output_type": "stream",
     "text": [
      "Cosine Similarity: 0.5466795481372141\n"
     ]
    }
   ],
   "source": [
    "# 🔎 Performing similarity search with sample oneline query and document\n",
    "def cosine_similarity(vec1, vec2):\n",
    "    dot_product = np.dot(vec1, vec2)\n",
    "    norm_vec1 = np.linalg.norm(vec1)\n",
    "    norm_vec2 = np.linalg.norm(vec2)\n",
    "    return dot_product / (norm_vec1 * norm_vec2)\n",
    "\n",
    "similarity = cosine_similarity(query_result, document_result)\n",
    "print(\"Cosine Similarity:\", similarity)"
   ]
  },
  {
   "cell_type": "markdown",
   "id": "e13963e5",
   "metadata": {},
   "source": [
    "## Some Important Methods of Vector DataBase"
   ]
  },
  {
   "cell_type": "markdown",
   "id": "11f0a2cf",
   "metadata": {},
   "source": [
    "## 🔗 Mapping Vector IDs to Original Documents\n",
    "\n",
    "When working with vector databases (like FAISS), each embedded chunk is assigned a **vector ID**. These IDs are used internally by the vector store to perform similarity search efficiently.\n",
    "\n",
    "However, for us to **understand what each vector actually represents**, we need to map those vector IDs back to the **original documents or text chunks**.\n",
    "\n",
    "This mapping ensures:\n",
    "- ✅ Accurate retrieval of source content\n",
    "- 📎 Clear traceability from vector back to raw data\n",
    "- 🧠 Human-readable context after a similarity search\n",
    "\n",
    "In LangChain + FAISS, this is often handled using a `docstore` that links `index_to_docstore_id`, like so:\n"
   ]
  },
  {
   "cell_type": "code",
   "execution_count": 12,
   "id": "17d42063",
   "metadata": {},
   "outputs": [
    {
     "name": "stdout",
     "output_type": "stream",
     "text": [
      "Document 0: a01bcd91-8d40-4f41-a0b1-e8ead7bd53b2\n",
      "Document 1: ba640c91-61f9-469b-8070-581154db1c08\n",
      "Document 2: a6c217f4-eda7-470b-a21e-52405352fc30\n",
      "Document 3: 2667534c-e2ab-4cd2-8277-c1ba76374a1a\n",
      "Document 4: d613310d-5da5-4e9a-8b89-81234b0c685e\n",
      "Document 5: e611d0de-a61f-480b-b40e-4ce1ed34d1f0\n",
      "Document 6: e4bdaae4-d4a3-408c-9d78-da49a91f938f\n",
      "Document 7: d9c9e61e-e95d-4111-a74e-9f26935bb7df\n",
      "Document 8: 2ff04415-77d6-4663-bb78-d22a7c425faf\n",
      "Document 9: b9766016-cdc7-4afb-a786-a21a0708329d\n"
     ]
    }
   ],
   "source": [
    "for i in faiss_index.index_to_docstore_id:\n",
    "    print(f\"Document {i}: {faiss_index.index_to_docstore_id[i]}\")"
   ]
  },
  {
   "cell_type": "markdown",
   "id": "552054f0",
   "metadata": {},
   "source": [
    "## 🗂️ Docstore in FAISS: Browsing Stored Documents\n",
    "\n",
    "The **`docstore`** contains the actual documents or chunks stored in the FAISS vector index, each mapped by a unique ID.\n",
    "\n",
    "This structure allows you to:\n",
    "- 🔍 Manually inspect what’s inside the vector database\n",
    "- 🧩 Retrieve the original text chunk using its vector ID\n",
    "- 🛠️ Debug or verify the integrity of your stored data\n",
    "\n",
    "### 🧠 How It Works:\n",
    "\n",
    "When a document is added:\n",
    "- FAISS generates a **vector ID** for each chunk\n",
    "- LangChain maps this ID to the corresponding document in the `docstore`\n",
    "\n"
   ]
  },
  {
   "cell_type": "code",
   "execution_count": 13,
   "id": "d6fb0fb0",
   "metadata": {},
   "outputs": [
    {
     "name": "stdout",
     "output_type": "stream",
     "text": [
      "a01bcd91-8d40-4f41-a0b1-e8ead7bd53b2\n",
      "Document a01bcd91-8d40-4f41-a0b1-e8ead7bd53b2: page_content='Before using iPhone, review the iPhone User Guide  at  \n",
      "support.apple.com/guide/iphone .\n",
      "Safety and Handling\n",
      "See “Safety, handling, and support” in the iPhone  \n",
      "User Guide.\n",
      "Exposure to Radio Frequency\n",
      "On iPhone, go to Settings > General > Legal &  \n",
      "Regulatory > RF Exposure. Or go to apple.com/ \n",
      "legal/rfexposure.\n",
      "Battery and Charging\n",
      "An iPhone battery should only be repaired by a trained \n",
      "technician to avoid battery damage, which could cause \n",
      "overheating, fire, or injury. Batteries should be recycled \n",
      "or disposed of separately from household waste and \n",
      "according to local environmental laws and guidelines. For \n",
      "information about Apple lithium-ion batteries and battery \n",
      "service and recycling, go to apple.com/batteries/service-\n",
      "and-recycling. For information about charging, see' metadata={'producer': 'Adobe PDF Library 17.0', 'creator': 'Adobe InDesign 19.3 (Macintosh)', 'creationdate': '2024-06-18T14:09:48-07:00', 'moddate': '2024-06-18T14:10:14-07:00', 'trapped': '/False', 'source': 'sample.pdf', 'total_pages': 4, 'page': 0, 'page_label': '1'}\n",
      "\n",
      "\n",
      "ba640c91-61f9-469b-8070-581154db1c08\n",
      "Document ba640c91-61f9-469b-8070-581154db1c08: page_content='information about Apple lithium-ion batteries and battery \n",
      "service and recycling, go to apple.com/batteries/service-\n",
      "and-recycling. For information about charging, see \n",
      "“Important safety information” in the iPhone User Guide.\n",
      "Lasers\n",
      "The proximity sensor, the TrueDepth camera system, \n",
      "and the LiDAR Scanner contain one or more lasers. \n",
      "These laser systems may be disabled for safety reasons \n",
      "if the device is damaged or malfunctions. If you receive \n",
      "a notification on your iPhone that the laser system is \n",
      "disabled, you should always have it repaired by Apple \n",
      "or an authorized service provider. Improper repair,' metadata={'producer': 'Adobe PDF Library 17.0', 'creator': 'Adobe InDesign 19.3 (Macintosh)', 'creationdate': '2024-06-18T14:09:48-07:00', 'moddate': '2024-06-18T14:10:14-07:00', 'trapped': '/False', 'source': 'sample.pdf', 'total_pages': 4, 'page': 0, 'page_label': '1'}\n",
      "\n",
      "\n",
      "a6c217f4-eda7-470b-a21e-52405352fc30\n",
      "Document a6c217f4-eda7-470b-a21e-52405352fc30: page_content='modification, or use of non-genuine Apple components \n",
      "in the laser systems may prevent the safety mechanisms \n",
      "from functioning properly, and could cause hazardous \n",
      "exposure and injury to eyes or skin.\n",
      "Class 1 Laser Information\n",
      "This device is classified as a Class 1 Laser product per IEC \n",
      "60825-1 Ed. 3. This device complies with 21 CFR 1040.10 \n",
      "and 1040.11, except for conformance with IEC 60825-1 \n",
      "Ed. 3., as described in Laser Notice No. 56, dated May 8, \n",
      "2019. Caution: This device contains one or more lasers. \n",
      "Use other than as described in the user guide, repair, or \n",
      "disassembly may cause damage, which could result in \n",
      "hazardous exposure to infrared laser emissions that are \n",
      "not visible. This equipment should be serviced by Apple \n",
      "or an authorized service provider.' metadata={'producer': 'Adobe PDF Library 17.0', 'creator': 'Adobe InDesign 19.3 (Macintosh)', 'creationdate': '2024-06-18T14:09:48-07:00', 'moddate': '2024-06-18T14:10:14-07:00', 'trapped': '/False', 'source': 'sample.pdf', 'total_pages': 4, 'page': 1, 'page_label': '2'}\n",
      "\n",
      "\n",
      "2667534c-e2ab-4cd2-8277-c1ba76374a1a\n",
      "Document 2667534c-e2ab-4cd2-8277-c1ba76374a1a: page_content='disassembly may cause damage, which could result in \n",
      "hazardous exposure to infrared laser emissions that are \n",
      "not visible. This equipment should be serviced by Apple \n",
      "or an authorized service provider.\n",
      "CLASS 1 LASER PRODUCT\n",
      "Hearing Aid Compatibility (HAC)—U.S. only\n",
      "iPhone is hearing aid compatible as determined by ANSI \n",
      "C63.19-2019. This iPhone supports volume control with a \n",
      "conversational gain of 16 dB with hearing aids, and 18 dB \n",
      "without hearing aids. \n",
      "Note: The 2019 ANSI C63.19 standard does not use M  \n",
      "(for reduced radio-frequency interference to enable \n",
      "acoustic coupling) and T (for inductive coupling with \n",
      "hearing aids operating in telecoil mode) rating system nor \n",
      "do any test standards exist for any wireless technologies \n",
      "that transmit above 6 GHz. Therefore, 5G NR mmWave' metadata={'producer': 'Adobe PDF Library 17.0', 'creator': 'Adobe InDesign 19.3 (Macintosh)', 'creationdate': '2024-06-18T14:09:48-07:00', 'moddate': '2024-06-18T14:10:14-07:00', 'trapped': '/False', 'source': 'sample.pdf', 'total_pages': 4, 'page': 1, 'page_label': '2'}\n",
      "\n",
      "\n",
      "d613310d-5da5-4e9a-8b89-81234b0c685e\n",
      "Document d613310d-5da5-4e9a-8b89-81234b0c685e: page_content='hearing aids operating in telecoil mode) rating system nor \n",
      "do any test standards exist for any wireless technologies \n",
      "that transmit above 6 GHz. Therefore, 5G NR mmWave \n",
      "frequency bands cannot be tested. Waiver DA 23-914  \n",
      "was used to demonstrate compliance.' metadata={'producer': 'Adobe PDF Library 17.0', 'creator': 'Adobe InDesign 19.3 (Macintosh)', 'creationdate': '2024-06-18T14:09:48-07:00', 'moddate': '2024-06-18T14:10:14-07:00', 'trapped': '/False', 'source': 'sample.pdf', 'total_pages': 4, 'page': 1, 'page_label': '2'}\n",
      "\n",
      "\n",
      "e611d0de-a61f-480b-b40e-4ce1ed34d1f0\n",
      "Document e611d0de-a61f-480b-b40e-4ce1ed34d1f0: page_content='Compulsory FCC statement: This phone has been tested \n",
      "and certified for use with hearing aids for some of the \n",
      "wireless technologies that it uses. However, there may \n",
      "be some newer wireless technologies used in this phone \n",
      "that have not been tested yet for use with hearing aids. \n",
      "It is important to try the different features of this phone \n",
      "thoroughly and in different locations, using your hearing \n",
      "aid or cochlear implant, to determine if you hear any \n",
      "interfering noise. Consult your service provider or the \n",
      "manufacturer of this phone for information on hearing \n",
      "aid compatibility. If you have questions about return \n",
      "or exchange policies, consult your service provider or \n",
      "phone retailer.\n",
      "Avoid Hearing Damage\n",
      "To prevent possible hearing damage, do not listen at  \n",
      "high volume levels for long periods. More information \n",
      "about sound and hearing is available online at apple.com/' metadata={'producer': 'Adobe PDF Library 17.0', 'creator': 'Adobe InDesign 19.3 (Macintosh)', 'creationdate': '2024-06-18T14:09:48-07:00', 'moddate': '2024-06-18T14:10:14-07:00', 'trapped': '/False', 'source': 'sample.pdf', 'total_pages': 4, 'page': 2, 'page_label': '3'}\n",
      "\n",
      "\n",
      "e4bdaae4-d4a3-408c-9d78-da49a91f938f\n",
      "Document e4bdaae4-d4a3-408c-9d78-da49a91f938f: page_content='phone retailer.\n",
      "Avoid Hearing Damage\n",
      "To prevent possible hearing damage, do not listen at  \n",
      "high volume levels for long periods. More information \n",
      "about sound and hearing is available online at apple.com/\n",
      "sound and in “Important safety information” in the  \n",
      "iPhone User Guide .\n",
      "Medical Device Interference\n",
      "iPhone contains magnets as well as components and/\n",
      "or radios that may interfere with medical devices. See \n",
      "“Important safety information” in the iPhone User Guide .\n",
      "Regulatory\n",
      "Regulatory certification information is available on-device. \n",
      "Go to Settings > General > Legal & Regulatory. Additional \n",
      "regulatory information is in “Safety, handling, and \n",
      "support” in the iPhone User Guide .\n",
      "FCC and ISED Canada Compliance\n",
      "This device complies with part 15 of the FCC Rules and \n",
      "ISED Canada licence-exempt RSS standard(s). Operation' metadata={'producer': 'Adobe PDF Library 17.0', 'creator': 'Adobe InDesign 19.3 (Macintosh)', 'creationdate': '2024-06-18T14:09:48-07:00', 'moddate': '2024-06-18T14:10:14-07:00', 'trapped': '/False', 'source': 'sample.pdf', 'total_pages': 4, 'page': 2, 'page_label': '3'}\n",
      "\n",
      "\n",
      "d9c9e61e-e95d-4111-a74e-9f26935bb7df\n",
      "Document d9c9e61e-e95d-4111-a74e-9f26935bb7df: page_content='is subject to the following two conditions: (1) this device \n",
      "may not cause harmful interference, and (2) this device \n",
      "must accept any interference received, including \n",
      "interference that may cause undesired operation.\n",
      "Apple One-Year Limited Warranty Summary\n",
      "Apple warrants the included hardware product and \n",
      "accessories against defects in materials and workmanship \n",
      "for one year from the date of original retail purchase. \n",
      "Apple does not warrant against normal wear and tear,  \n",
      "nor damage caused by accident or abuse. To obtain \n",
      "service, call Apple or visit an Apple Store or an Apple \n",
      "Authorized Service Provider—available service options are \n",
      "dependent on the country in which service is requested \n",
      "and may be restricted to the original country of sale. Call \n",
      "charges and international shipping charges may apply, \n",
      "depending on the location. Subject to the full terms and \n",
      "detailed information on obtaining service available at' metadata={'producer': 'Adobe PDF Library 17.0', 'creator': 'Adobe InDesign 19.3 (Macintosh)', 'creationdate': '2024-06-18T14:09:48-07:00', 'moddate': '2024-06-18T14:10:14-07:00', 'trapped': '/False', 'source': 'sample.pdf', 'total_pages': 4, 'page': 3, 'page_label': '4'}\n",
      "\n",
      "\n",
      "2ff04415-77d6-4663-bb78-d22a7c425faf\n",
      "Document 2ff04415-77d6-4663-bb78-d22a7c425faf: page_content='and may be restricted to the original country of sale. Call \n",
      "charges and international shipping charges may apply, \n",
      "depending on the location. Subject to the full terms and \n",
      "detailed information on obtaining service available at \n",
      "apple.com/legal/warranty  and support.apple.com , if you \n",
      "submit a valid claim under this warranty, Apple will either \n",
      "repair, replace, or refund your hardware device at its own \n",
      "discretion. Warranty benefits are in addition to rights \n",
      "provided under local consumer laws. You may be required \n",
      "to furnish proof of purchase details when making a claim \n",
      "under this warranty.\n",
      "© 2024 Apple Inc. All rights reserved. Apple, the Apple \n",
      "logo, iPhone, and TrueDepth are trademarks of Apple Inc., \n",
      "registered in the U.S. and other countries and regions. \n",
      "Apple Store is a service mark of Apple Inc., registered in' metadata={'producer': 'Adobe PDF Library 17.0', 'creator': 'Adobe InDesign 19.3 (Macintosh)', 'creationdate': '2024-06-18T14:09:48-07:00', 'moddate': '2024-06-18T14:10:14-07:00', 'trapped': '/False', 'source': 'sample.pdf', 'total_pages': 4, 'page': 3, 'page_label': '4'}\n",
      "\n",
      "\n",
      "b9766016-cdc7-4afb-a786-a21a0708329d\n",
      "Document b9766016-cdc7-4afb-a786-a21a0708329d: page_content='logo, iPhone, and TrueDepth are trademarks of Apple Inc., \n",
      "registered in the U.S. and other countries and regions. \n",
      "Apple Store is a service mark of Apple Inc., registered in \n",
      "the U.S. and other countries and regions.  \n",
      "Printed in XXXX.  034-06537-A' metadata={'producer': 'Adobe PDF Library 17.0', 'creator': 'Adobe InDesign 19.3 (Macintosh)', 'creationdate': '2024-06-18T14:09:48-07:00', 'moddate': '2024-06-18T14:10:14-07:00', 'trapped': '/False', 'source': 'sample.pdf', 'total_pages': 4, 'page': 3, 'page_label': '4'}\n",
      "\n",
      "\n"
     ]
    }
   ],
   "source": [
    "for i in list(faiss_index.docstore._dict):\n",
    "    print(i)\n",
    "    print(f\"Document {i}: {faiss_index.docstore._dict[i]}\")\n",
    "    print(\"\\n\")"
   ]
  },
  {
   "cell_type": "markdown",
   "id": "df57977e",
   "metadata": {},
   "source": [
    "## ⚙️ Accessing the Raw FAISS Index: `faiss_index.index`\n",
    "\n",
    "The `.index` attribute gives you **direct access to the underlying FAISS index object**, bypassing high-level abstractions.\n",
    "\n",
    "### 🔍 Why is this useful?\n",
    "\n",
    "With `faiss_index.index`, you can:\n",
    "- 🎯 Run **custom FAISS operations** (e.g., brute-force search, advanced filtering)\n",
    "- 🧪 Experiment with **clustering**, **approximate nearest neighbors (ANN)**, or dimensionality reduction\n",
    "- ⚡ Optimize performance or tune behavior beyond LangChain’s defaults\n"
   ]
  },
  {
   "cell_type": "code",
   "execution_count": null,
   "id": "b5d17ac9",
   "metadata": {},
   "outputs": [
    {
     "name": "stdout",
     "output_type": "stream",
     "text": [
      "10\n",
      "1536\n"
     ]
    }
   ],
   "source": [
    "# 🖨️ Displaying output\n",
    "print(faiss_index.index.ntotal)  # Number of vectors\n",
    "print(faiss_index.index.d)  # Number of dimensions"
   ]
  },
  {
   "cell_type": "markdown",
   "id": "7d41c722",
   "metadata": {},
   "source": [
    "## 🔍 Quick Retrieval: `faiss_index.similarity_search(\"your query\", k=3)`\n",
    "\n",
    "This method allows you to perform a **barebones similarity search** using a raw query string — without needing to set up a separate retriever object.\n",
    "\n",
    "### 🚀 Why use this?\n",
    "\n",
    "- ✅ Quick way to test if your FAISS index is retrieving **relevant chunks**\n",
    "- 🧪 Great for debugging your embeddings or chunking strategy\n",
    "- 🧱 Useful in prototyping before building a full RAG pipeline\n"
   ]
  },
  {
   "cell_type": "code",
   "execution_count": 15,
   "id": "a4e2a91f",
   "metadata": {},
   "outputs": [
    {
     "name": "stdout",
     "output_type": "stream",
     "text": [
      "and may be restricted to the original country of sale. Call \n",
      "charges and international shipping charges may apply, \n",
      "depending on the location. Subject to the full terms and \n",
      "detailed information on obtaining service available at \n",
      "apple.com/legal/warranty  and support.apple.com , if you \n",
      "submit a valid claim under this warranty, Apple will either \n",
      "repair, replace, or refund your hardware device at its own \n",
      "discretion. Warranty benefits are in addition to rights \n",
      "provided under local consumer laws. You may be required \n",
      "to furnish proof of purchase details when making a claim \n",
      "under this warranty.\n",
      "© 2024 Apple Inc. All rights reserved. Apple, the Apple \n",
      "logo, iPhone, and TrueDepth are trademarks of Apple Inc., \n",
      "registered in the U.S. and other countries and regions. \n",
      "Apple Store is a service mark of Apple Inc., registered in\n",
      "\n",
      "\n",
      "Before using iPhone, review the iPhone User Guide  at  \n",
      "support.apple.com/guide/iphone .\n",
      "Safety and Handling\n",
      "See “Safety, handling, and support” in the iPhone  \n",
      "User Guide.\n",
      "Exposure to Radio Frequency\n",
      "On iPhone, go to Settings > General > Legal &  \n",
      "Regulatory > RF Exposure. Or go to apple.com/ \n",
      "legal/rfexposure.\n",
      "Battery and Charging\n",
      "An iPhone battery should only be repaired by a trained \n",
      "technician to avoid battery damage, which could cause \n",
      "overheating, fire, or injury. Batteries should be recycled \n",
      "or disposed of separately from household waste and \n",
      "according to local environmental laws and guidelines. For \n",
      "information about Apple lithium-ion batteries and battery \n",
      "service and recycling, go to apple.com/batteries/service-\n",
      "and-recycling. For information about charging, see\n",
      "\n",
      "\n"
     ]
    }
   ],
   "source": [
    "results = faiss_index.similarity_search(\"Is it charge any international charges?\", k=2)\n",
    "for r in results:\n",
    "    print(r.page_content)\n",
    "    print(\"\\n\")\n"
   ]
  },
  {
   "cell_type": "markdown",
   "id": "26277295",
   "metadata": {},
   "source": [
    "## 📏 Check Similarity Scores: `similarity_search_with_score(...)`\n",
    "\n",
    "While `similarity_search()` gives you the most relevant documents, it doesn’t tell you **how similar** those results actually are.\n",
    "\n",
    "That’s where `similarity_search_with_score()` comes in!\n",
    "\n",
    "### 🎯 Purpose:\n",
    "- ✅ Returns both the **retrieved document chunks** and their **similarity scores**\n",
    "- 🧠 Helps evaluate the quality of retrieval\n",
    "- 🎛️ Useful for thresholding or filtering out weak matches\n",
    "\n"
   ]
  },
  {
   "cell_type": "code",
   "execution_count": 16,
   "id": "ba3e230c",
   "metadata": {},
   "outputs": [
    {
     "name": "stdout",
     "output_type": "stream",
     "text": [
      "Score: 1.2915 | Chunk: and may be restricted to the original country of sale. Call \n",
      "charges and international shipping char\n",
      "Score: 1.4486 | Chunk: Before using iPhone, review the iPhone User Guide  at  \n",
      "support.apple.com/guide/iphone .\n",
      "Safety and \n"
     ]
    }
   ],
   "source": [
    "results = faiss_index.similarity_search_with_score(\"Is it charge any international charges?\", k=2)\n",
    "for doc, score in results:\n",
    "    print(f\"Score: {score:.4f} | Chunk: {doc.page_content[:100]}\")"
   ]
  },
  {
   "cell_type": "markdown",
   "id": "5a6386b8",
   "metadata": {},
   "source": [
    "## 🧬 Visualize the Embeddings\n",
    "\n",
    "Embeddings transform each document chunk into a **high-dimensional vector** that captures its **semantic meaning**.\n",
    "\n",
    "To **visually explore** how your FAISS index is structured and how similar your chunks are to each other, you can reduce these embeddings to **2D** space using techniques like **PCA** or **t-SNE**.\n",
    "\n",
    "### 🎯 Why Visualize?\n",
    "- 🧠 Understand cluster formations in your data\n",
    "- 🔍 Spot redundant or overlapping chunks\n",
    "- 🧪 Inspect chunk separability (great for debugging)\n"
   ]
  },
  {
   "cell_type": "code",
   "execution_count": 17,
   "id": "cabd2c80",
   "metadata": {},
   "outputs": [
    {
     "data": {
      "image/png": "[encoded data removed]",
      "text/plain": [
       "<Figure size 640x480 with 1 Axes>"
      ]
     },
     "metadata": {},
     "output_type": "display_data"
    }
   ],
   "source": [
    "# 📦 Importing necessary libraries\n",
    "import numpy as np\n",
    "from sklearn.decomposition import PCA\n",
    "import matplotlib.pyplot as plt\n",
    "\n",
    "# Extract vectors\n",
    "vectors = faiss_index.index.reconstruct_n(0, faiss_index.index.ntotal)\n",
    "\n",
    "# Reduce dimensions\n",
    "pca = PCA(n_components=2)\n",
    "reduced = pca.fit_transform(vectors)\n",
    "\n",
    "# Plot\n",
    "plt.scatter(reduced[:, 0], reduced[:, 1], alpha=0.5)\n",
    "plt.title(\"FAISS Index Vector Space (2D PCA)\")\n",
    "plt.show()\n"
   ]
  },
  {
   "cell_type": "markdown",
   "id": "2a1ccfee",
   "metadata": {},
   "source": [
    "## 💾 Save & Reload the FAISS Index\n",
    "\n",
    "If you're scaling up or working with large documents, it's important to understand **persistence** — how to save your FAISS index and reload it later without reprocessing all data.\n",
    "\n",
    "This lets you:\n",
    "- 🧠 Skip recomputing embeddings\n",
    "- ⚡ Speed up prototyping and testing\n",
    "- 🗃️ Maintain long-term storage of your vector database\n",
    "\n"
   ]
  },
  {
   "cell_type": "code",
   "execution_count": 18,
   "id": "5deb6b9a",
   "metadata": {},
   "outputs": [],
   "source": [
    "# Saving FAISS index\n",
    "faiss_index.save_local(\"my_faiss_index\")"
   ]
  },
  {
   "cell_type": "code",
   "execution_count": 19,
   "id": "05c25766",
   "metadata": {},
   "outputs": [
    {
     "name": "stdout",
     "output_type": "stream",
     "text": [
      "and may be restricted to the original country of sale. Call \n",
      "charges and international shipping charges may apply, \n",
      "depending on the location. Subject to the full terms and \n",
      "detailed information on obtaining service available at \n",
      "apple.com/legal/warranty  and support.apple.com , if you \n",
      "submit a valid claim under this warranty, Apple will either \n",
      "repair, replace, or refund your hardware device at its own \n",
      "discretion. Warranty benefits are in addition to rights \n",
      "provided under local consumer laws. You may be required \n",
      "to furnish proof of purchase details when making a claim \n",
      "under this warranty.\n",
      "© 2024 Apple Inc. All rights reserved. Apple, the Apple \n",
      "logo, iPhone, and TrueDepth are trademarks of Apple Inc., \n",
      "registered in the U.S. and other countries and regions. \n",
      "Apple Store is a service mark of Apple Inc., registered in\n",
      "\n",
      "\n"
     ]
    }
   ],
   "source": [
    "# 🏗️ loading FAISS vector index\n",
    "new_index = FAISS.load_local(\"my_faiss_index\", embd, allow_dangerous_deserialization=True)\n",
    "\n",
    "results = new_index.similarity_search(\"Is it charge any international charges?\", k=1)\n",
    "for r in results:\n",
    "    print(r.page_content)\n",
    "    print(\"\\n\")"
   ]
  },
  {
   "cell_type": "markdown",
   "id": "8727e8be",
   "metadata": {},
   "source": [
    "## ➕ Add More Documents Later\n",
    "\n",
    "Your FAISS index isn't static — you can **dynamically add new documents** at any time without needing to rebuild the entire index.\n",
    "\n",
    "This is useful when:\n",
    "- 📈 New data arrives over time (e.g., new PDFs, notes, or pages)\n",
    "- 🔄 You’re iteratively building your knowledge base\n",
    "- 🧪 You want to test how additional context affects retrieval"
   ]
  },
  {
   "cell_type": "code",
   "execution_count": null,
   "id": "6b4ee085",
   "metadata": {},
   "outputs": [],
   "source": [
    "# 📄 Loading new PDF document\n",
    "new_loader = PyPDFLoader(\"<path_to_new_pdf>\")\n",
    "new_docs = text_splitter.split_documents(new_loader.load())\n",
    "faiss_index.add_documents(new_docs)"
   ]
  },
  {
   "cell_type": "markdown",
   "id": "56fb3755",
   "metadata": {},
   "source": [
    "---\n",
    "\n",
    "<!-- Font Awesome CDN (Add in <head> if not already included) -->\n",
    "<link\n",
    "  rel=\"stylesheet\" \n",
    "  href=\"https://cdnjs.cloudflare.com/ajax/libs/font-awesome/6.5.0/css/all.min.css\"\n",
    "/>\n",
    "\n",
    "<!-- Social Footer Section -->\n",
    "<div style=\"\n",
    "  background-color:rgb(199, 195, 195);\n",
    "  padding: 40px 30px;\n",
    "  border-radius: 20px;\n",
    "  box-shadow: 0 4px 12px rgba(0,0,0,0.08);\n",
    "  font-family: 'Segoe UI', Tahoma, Geneva, Verdana, sans-serif;\n",
    "  font-size: 18px;\n",
    "  max-width: 900px;\n",
    "  margin: 60px auto 30px;\n",
    "  text-align: center;\n",
    "  color: #444;\n",
    "\">\n",
    "<!-- End of Notebook Note -->\n",
    "  <h2 style=\"margin-bottom: 10px;\">📘 End of Notebook</h2>\n",
    "  <p style=\"color: #666; font-size: 14px;\">\n",
    "    Thank you for exploring! Feel free to connect via the links below.\n",
    "  </p>\n",
    "\n",
    "  <!-- Social Icons -->\n",
    "<div style=\"\n",
    "  display: flex;\n",
    "  gap: 25px;\n",
    "  align-items: center;\n",
    "  flex-wrap: wrap;\n",
    "  justify-content: center;\n",
    "  margin-bottom: 25px;\n",
    "\">\n",
    "  <!-- LinkedIn -->\n",
    "  <a href=\"https://www.linkedin.com/in/ChiragB254\" target=\"_blank\" style=\"text-decoration: none; color: #0077b5;\">\n",
    "    <i class=\"fab fa-linkedin fa-lg\"></i> LinkedIn\n",
    "  </a>\n",
    "\n",
    "  <!-- GitHub -->\n",
    "  <a href=\"https://github.com/ChiragB254\" target=\"_blank\" style=\"text-decoration: none; color: #333;\">\n",
    "    <i class=\"fab fa-github fa-lg\"></i> GitHub\n",
    "  </a>\n",
    "\n",
    "  <!-- Instagram -->\n",
    "  <a href=\"https://www.instagram.com/data.scientist_chirag\" target=\"_blank\" style=\"text-decoration: none; color: #E1306C;\">\n",
    "    <i class=\"fab fa-instagram fa-lg\"></i> Instagram\n",
    "  </a>\n",
    "\n",
    "  <!-- Email -->\n",
    "  <a href=\"mailto:devchirag27@gmail.com\" style=\"text-decoration: none; color: #D44638;\">\n",
    "    <i class=\"fas fa-envelope fa-lg\"></i> Email\n",
    "  </a>\n",
    "\n",
    "  <!-- X (Twitter) -->\n",
    "  <a href=\"https://x.com/ChiragB254\" target=\"_blank\" style=\"text-decoration: none; color: #000;\">\n",
    "    <i class=\"fab fa-x-twitter fa-lg\"></i> X.com\n",
    "  </a>\n",
    "  </div>\n",
    "\n",
    "  <p style=\"font-size: 13px; color: black; font-style: italic; margin-top: 8px;\">\n",
    "    <strong>Made with ❤️ by Chirag Bansal</strong>\n",
    "  </p>\n",
    "</div>\n"
   ]
  }
 ],
 "metadata": {
  "kernelspec": {
   "display_name": "LLMs-env",
   "language": "python",
   "name": "python3"
  },
  "language_info": {
   "codemirror_mode": {
    "name": "ipython",
    "version": 3
   },
   "file_extension": ".py",
   "mimetype": "text/x-python",
   "name": "python",
   "nbconvert_exporter": "python",
   "pygments_lexer": "ipython3",
   "version": "3.10.14"
  }
 },
 "nbformat": 4,
 "nbformat_minor": 5
}
