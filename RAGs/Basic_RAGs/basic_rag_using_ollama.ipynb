{
 "cells": [
  {
   "cell_type": "markdown",
   "id": "b2bc2b1d",
   "metadata": {},
   "source": [
    "\n",
    "# 🦙📄 Basic RAG using Ollama + FAISS\n",
    "\n",
    "This notebook demonstrates a simple Retrieval-Augmented Generation (RAG) setup using:\n",
    "\n",
    "- `Ollama` as the backend for LLM (running `llama3.2` or similar)\n",
    "- `FAISS` for vector storage\n",
    "- `LangChain` to manage the pipeline\n",
    "\n",
    "---\n",
    "\n",
    "## ⚙️ Prerequisites\n",
    "\n",
    "1. **Download & run Ollama**  \n",
    "   Make sure Ollama is installed and actively running in the background. You can get it from [https://ollama.com](https://ollama.com).\n",
    "\n",
    "2. **Load the model you plan to use**  \n",
    "   This notebook uses the `llama3` model by default. To use it (or any other), run:\n",
    "\n",
    "   ```bash\n",
    "   ollama run llama3\n",
    "   ```\n",
    "\n",
    "   If you want to switch to another model (e.g., `mistral`, `gemma`, `phi3`), install it first:\n",
    "\n",
    "   ```bash\n",
    "   ollama run <model>\n",
    "   ```\n",
    "\n",
    "   Then update the model name in the `ChatOllama` function accordingly.\n"
   ]
  },
  {
   "cell_type": "code",
   "execution_count": 19,
   "id": "c0c51f2d",
   "metadata": {},
   "outputs": [],
   "source": [
    "from langchain import hub\n",
    "from langchain.text_splitter import RecursiveCharacterTextSplitter\n",
    "from langchain_community.vectorstores import FAISS\n",
    "from langchain_core.output_parsers import StrOutputParser\n",
    "from langchain_core.runnables import RunnablePassthrough\n",
    "from langchain.document_loaders import PyPDFLoader\n",
    "from langchain.prompts import ChatPromptTemplate\n",
    "from langchain_huggingface import HuggingFaceEmbeddings\n",
    "from langchain_ollama import ChatOllama"
   ]
  },
  {
   "cell_type": "code",
   "execution_count": 20,
   "id": "660dc3c6",
   "metadata": {},
   "outputs": [],
   "source": [
    "# Load PDF and split it into chunks\n",
    "pdf_file = 'sample.pdf'\n",
    "chunk_size = 1000\n",
    "chunk_overlap = 200\n",
    "\n",
    "loader = PyPDFLoader(pdf_file)\n",
    "documents = loader.load()\n",
    "\n",
    "# Split the document into manageable chunks\n",
    "text_splitter = RecursiveCharacterTextSplitter(\n",
    "    chunk_size=chunk_size, chunk_overlap=chunk_overlap\n",
    ")\n",
    "texts = text_splitter.split_documents(documents)"
   ]
  },
  {
   "cell_type": "code",
   "execution_count": 21,
   "id": "a6d074a8",
   "metadata": {},
   "outputs": [
    {
     "data": {
      "text/plain": [
       "Document(metadata={'producer': 'Adobe PDF Library 17.0', 'creator': 'Adobe InDesign 19.3 (Macintosh)', 'creationdate': '2024-06-18T14:09:48-07:00', 'moddate': '2024-06-18T14:10:14-07:00', 'trapped': '/False', 'source': 'sample.pdf', 'total_pages': 4, 'page': 0, 'page_label': '1'}, page_content='Before using iPhone, review the iPhone User Guide  at  \\nsupport.apple.com/guide/iphone .\\nSafety and Handling\\nSee “Safety, handling, and support” in the iPhone  \\nUser Guide .\\nExposure to Radio Frequency\\nOn iPhone, go to Settings > General > Legal &  \\nRegulatory > RF Exposure. Or go to apple.com/  \\nlegal/rfexposure .\\nBattery and Charging\\nAn iPhone battery should only be repaired by a trained \\ntechnician to avoid battery damage, which could cause \\noverheating, fire, or injury. Batteries should be recycled \\nor disposed of separately from household waste and \\naccording to local environmental laws and guidelines. For \\ninformation about Apple lithium-ion batteries and battery \\nservice and recycling, go to apple.com/batteries/service-\\nand-recycling . For information about charging, see \\n“Important safety information” in the iPhone User Guide.\\nLasers\\nThe proximity sensor, the TrueDepth camera system, \\nand the LiDAR Scanner contain one or more lasers.')"
      ]
     },
     "execution_count": 21,
     "metadata": {},
     "output_type": "execute_result"
    }
   ],
   "source": [
    "texts[0]"
   ]
  },
  {
   "cell_type": "code",
   "execution_count": 22,
   "id": "fb1ee109",
   "metadata": {},
   "outputs": [
    {
     "data": {
      "text/plain": [
       "8"
      ]
     },
     "execution_count": 22,
     "metadata": {},
     "output_type": "execute_result"
    }
   ],
   "source": [
    "len(texts)"
   ]
  },
  {
   "cell_type": "code",
   "execution_count": 23,
   "id": "12c74684",
   "metadata": {},
   "outputs": [],
   "source": [
    "# 🔧 Specify the Hugging Face embedding model to use\n",
    "model_name = \"sentence-transformers/all-mpnet-base-v2\"\n",
    "\n",
    "# ⚙️ Model-specific arguments (e.g., run on CPU)\n",
    "model_kwargs = {'device': 'cpu'}\n",
    "\n",
    "# 🧮 Embedding behavior settings\n",
    "# normalize_embeddings=False ensures raw embeddings are used (not L2-normalized)\n",
    "encode_kwargs = {'normalize_embeddings': False}\n",
    "\n",
    "# 🤗 Initialize the HuggingFaceEmbeddings class with specified settings\n",
    "hf = HuggingFaceEmbeddings(\n",
    "    model_name=model_name,\n",
    "    model_kwargs=model_kwargs,\n",
    "    encode_kwargs=encode_kwargs\n",
    ")"
   ]
  },
  {
   "cell_type": "code",
   "execution_count": 24,
   "id": "a70b9d6f",
   "metadata": {},
   "outputs": [],
   "source": [
    "# vectorstore\n",
    "vectorstore = FAISS.from_documents(\n",
    "    texts,\n",
    "    embedding=hf\n",
    ")"
   ]
  },
  {
   "cell_type": "code",
   "execution_count": 25,
   "id": "275cce34",
   "metadata": {},
   "outputs": [],
   "source": [
    "retriever = vectorstore.as_retriever()"
   ]
  },
  {
   "cell_type": "code",
   "execution_count": 26,
   "id": "983dec6f",
   "metadata": {},
   "outputs": [],
   "source": [
    "# Define the custom prompt template for generation\n",
    "\n",
    "template = \"\"\"\n",
    "You are a customer service agent for a apple mobile company. \n",
    "You have been given the following information about the customer query and the context.\n",
    "Customer Query: {query}\n",
    "Context: {context}\n",
    "\n",
    "### Answer: \n",
    "The answer should be based on the context provided.\n",
    "Your task is to answer the customer query based on the context provided. If the question is not related to the context, please say \"I don't know or Do Not Answer it just say please ask me question related to Apple Mobiles only\".\n",
    "Do not make up any information or provide any personal opinions or experiences.\n",
    "Please answer in a friendly and professional manner.\n",
    "\"\"\""
   ]
  },
  {
   "cell_type": "code",
   "execution_count": 27,
   "id": "9c07434b",
   "metadata": {},
   "outputs": [],
   "source": [
    "prompt = ChatPromptTemplate.from_messages(\n",
    "    [\n",
    "\t(\"system\", \"You are a helpful assistant.\"),\n",
    "\t(\"human\", template),\n",
    "    ]\n",
    ")"
   ]
  },
  {
   "cell_type": "code",
   "execution_count": null,
   "id": "71510e4b",
   "metadata": {},
   "outputs": [],
   "source": [
    "# 🧠 Load LLM from Ollama (must be running in background)\n",
    "# In this example we are using the Llama 3.2 model\n",
    "# Make sure to have the model downloaded and running in the background\n",
    "llm = ChatOllama(\n",
    "    model=\"llama3.2\",\n",
    "    temperature=0,\n",
    ")"
   ]
  },
  {
   "cell_type": "code",
   "execution_count": 29,
   "id": "58ef99e0",
   "metadata": {},
   "outputs": [],
   "source": [
    "# Post-processing\n",
    "def format_docs(docs):\n",
    "    return \"\\n\\n\".join(doc.page_content for doc in docs)"
   ]
  },
  {
   "cell_type": "code",
   "execution_count": 30,
   "id": "d47f866a",
   "metadata": {},
   "outputs": [],
   "source": [
    "# Chain\n",
    "rag_chain = (\n",
    "    {\"context\": retriever | format_docs, \"query\": RunnablePassthrough()}\n",
    "    | prompt\n",
    "    | llm\n",
    "    | StrOutputParser()\n",
    ")"
   ]
  },
  {
   "cell_type": "code",
   "execution_count": 31,
   "id": "781a0068",
   "metadata": {},
   "outputs": [
    {
     "name": "stdout",
     "output_type": "stream",
     "text": [
      "📦 Answer: Hello! Thank you for reaching out to us about your iPhone warranty. I'd be happy to help.\n",
      "\n",
      "To confirm, the warranty on your iPhone is subject to certain conditions, including that it may not cause harmful interference and must accept any interference received, including interference that may cause undesired operation.\n",
      "\n",
      "Regarding your specific question, yes, there is a warranty on your iPhone. Apple warrants the included hardware product and accessories against defects in materials and workmanship for one year from the date of original retail purchase.\n",
      "\n",
      "If you'd like to make a claim under this warranty, I can guide you through the process. Please note that you may be required to furnish proof of purchase details when making a claim. You can find more information on our warranty terms and conditions at apple.com/legal/warranty or support.apple.com.\n",
      "\n",
      "Is there anything else I can help with regarding your iPhone warranty?\n"
     ]
    }
   ],
   "source": [
    "# Example 1: Ask a domain-specific question\n",
    "response = rag_chain.invoke('Is there a warranty on the phone?')\n",
    "print('📦 Answer:', response)"
   ]
  },
  {
   "cell_type": "code",
   "execution_count": 32,
   "id": "0dc576f8",
   "metadata": {},
   "outputs": [
    {
     "name": "stdout",
     "output_type": "stream",
     "text": [
      "🎮 Answer: Hello! I'd be happy to help you with your query. However, I need to clarify that the context provided seems to be more related to iPhone safety guidelines and precautions rather than answering questions about GTA 6.\n",
      "\n",
      "To be honest, I don't have any information about GTA 6 in relation to Apple mobiles or iPhones. Could you please ask me a question related to Apple mobiles or iPhones? I'll do my best to assist you with your query.\n"
     ]
    }
   ],
   "source": [
    "# Example 2: Ask a general knowledge question\n",
    "response = rag_chain.invoke('What is GTA 6?')\n",
    "print('🎮 Answer:', response)"
   ]
  },
  {
   "cell_type": "markdown",
   "id": "a4c47c6b",
   "metadata": {},
   "source": [
    "<!-- Font Awesome CDN (Add in <head> if not already included) -->\n",
    "<link\n",
    "  rel=\"stylesheet\" \n",
    "  href=\"https://cdnjs.cloudflare.com/ajax/libs/font-awesome/6.5.0/css/all.min.css\"\n",
    "/>\n",
    "\n",
    "<!-- Social Footer Section -->\n",
    "<div style=\"\n",
    "  background-color:rgb(199, 195, 195);\n",
    "  padding: 40px 30px;\n",
    "  border-radius: 20px;\n",
    "  box-shadow: 0 4px 12px rgba(0,0,0,0.08);\n",
    "  font-family: 'Segoe UI', Tahoma, Geneva, Verdana, sans-serif;\n",
    "  font-size: 18px;\n",
    "  max-width: 900px;\n",
    "  margin: 60px auto 30px;\n",
    "  text-align: center;\n",
    "  color: #444;\n",
    "\">\n",
    "<!-- End of Notebook Note -->\n",
    "  <h2 style=\"margin-bottom: 10px;\">📘 End of Notebook</h2>\n",
    "  <p style=\"color: #666; font-size: 14px;\">\n",
    "    Thank you for exploring! Feel free to connect via the links below.\n",
    "  </p>\n",
    "\n",
    "  <!-- Social Icons -->\n",
    "<div style=\"\n",
    "  display: flex;\n",
    "  gap: 25px;\n",
    "  align-items: center;\n",
    "  flex-wrap: wrap;\n",
    "  justify-content: center;\n",
    "  margin-bottom: 25px;\n",
    "\">\n",
    "  <!-- LinkedIn -->\n",
    "  <a href=\"https://www.linkedin.com/in/ChiragB254\" target=\"_blank\" style=\"text-decoration: none; color: #0077b5;\">\n",
    "    <i class=\"fab fa-linkedin fa-lg\"></i> LinkedIn\n",
    "  </a>\n",
    "\n",
    "  <!-- GitHub -->\n",
    "  <a href=\"https://github.com/ChiragB254\" target=\"_blank\" style=\"text-decoration: none; color: #333;\">\n",
    "    <i class=\"fab fa-github fa-lg\"></i> GitHub\n",
    "  </a>\n",
    "\n",
    "  <!-- Instagram -->\n",
    "  <a href=\"https://www.instagram.com/data.scientist_chirag\" target=\"_blank\" style=\"text-decoration: none; color: #E1306C;\">\n",
    "    <i class=\"fab fa-instagram fa-lg\"></i> Instagram\n",
    "  </a>\n",
    "\n",
    "  <!-- Email -->\n",
    "  <a href=\"mailto:devchirag27@gmail.com\" style=\"text-decoration: none; color: #D44638;\">\n",
    "    <i class=\"fas fa-envelope fa-lg\"></i> Email\n",
    "  </a>\n",
    "\n",
    "  <!-- X (Twitter) -->\n",
    "  <a href=\"https://x.com/ChiragB254\" target=\"_blank\" style=\"text-decoration: none; color: #000;\">\n",
    "    <i class=\"fab fa-x-twitter fa-lg\"></i> X.com\n",
    "  </a>\n",
    "  </div>\n",
    "\n",
    "  <p style=\"font-size: 13px; color: black; font-style: italic; margin-top: 8px;\">\n",
    "    <strong>Made with ❤️ by Chirag Bansal</strong>\n",
    "  </p>\n",
    "</div>\n",
    "\n"
   ]
  }
 ],
 "metadata": {
  "kernelspec": {
   "display_name": "LLMs-env",
   "language": "python",
   "name": "python3"
  },
  "language_info": {
   "codemirror_mode": {
    "name": "ipython",
    "version": 3
   },
   "file_extension": ".py",
   "mimetype": "text/x-python",
   "name": "python",
   "nbconvert_exporter": "python",
   "pygments_lexer": "ipython3",
   "version": "3.10.14"
  }
 },
 "nbformat": 4,
 "nbformat_minor": 5
}
