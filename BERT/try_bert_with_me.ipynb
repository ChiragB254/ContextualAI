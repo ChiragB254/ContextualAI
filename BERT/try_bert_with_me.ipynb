{
  "nbformat": 4,
  "nbformat_minor": 0,
  "metadata": {
    "colab": {
      "provenance": []
    },
    "kernelspec": {
      "name": "python3",
      "display_name": "Python 3"
    },
    "language_info": {
      "name": "python"
    }
  },
  "cells": [
    {
      "cell_type": "code",
      "execution_count": 1,
      "metadata": {
        "colab": {
          "base_uri": "https://localhost:8080/"
        },
        "id": "SXWQCq7SOFgn",
        "outputId": "2829fd2f-94a0-4c96-be00-112f5c3b9cb6"
      },
      "outputs": [
        {
          "output_type": "stream",
          "name": "stdout",
          "text": [
            "Requirement already satisfied: transformers in /usr/local/lib/python3.11/dist-packages (4.47.1)\n",
            "Requirement already satisfied: filelock in /usr/local/lib/python3.11/dist-packages (from transformers) (3.16.1)\n",
            "Requirement already satisfied: huggingface-hub<1.0,>=0.24.0 in /usr/local/lib/python3.11/dist-packages (from transformers) (0.27.1)\n",
            "Requirement already satisfied: numpy>=1.17 in /usr/local/lib/python3.11/dist-packages (from transformers) (1.26.4)\n",
            "Requirement already satisfied: packaging>=20.0 in /usr/local/lib/python3.11/dist-packages (from transformers) (24.2)\n",
            "Requirement already satisfied: pyyaml>=5.1 in /usr/local/lib/python3.11/dist-packages (from transformers) (6.0.2)\n",
            "Requirement already satisfied: regex!=2019.12.17 in /usr/local/lib/python3.11/dist-packages (from transformers) (2024.11.6)\n",
            "Requirement already satisfied: requests in /usr/local/lib/python3.11/dist-packages (from transformers) (2.32.3)\n",
            "Requirement already satisfied: tokenizers<0.22,>=0.21 in /usr/local/lib/python3.11/dist-packages (from transformers) (0.21.0)\n",
            "Requirement already satisfied: safetensors>=0.4.1 in /usr/local/lib/python3.11/dist-packages (from transformers) (0.5.2)\n",
            "Requirement already satisfied: tqdm>=4.27 in /usr/local/lib/python3.11/dist-packages (from transformers) (4.67.1)\n",
            "Requirement already satisfied: fsspec>=2023.5.0 in /usr/local/lib/python3.11/dist-packages (from huggingface-hub<1.0,>=0.24.0->transformers) (2024.10.0)\n",
            "Requirement already satisfied: typing-extensions>=3.7.4.3 in /usr/local/lib/python3.11/dist-packages (from huggingface-hub<1.0,>=0.24.0->transformers) (4.12.2)\n",
            "Requirement already satisfied: charset-normalizer<4,>=2 in /usr/local/lib/python3.11/dist-packages (from requests->transformers) (3.4.1)\n",
            "Requirement already satisfied: idna<4,>=2.5 in /usr/local/lib/python3.11/dist-packages (from requests->transformers) (3.10)\n",
            "Requirement already satisfied: urllib3<3,>=1.21.1 in /usr/local/lib/python3.11/dist-packages (from requests->transformers) (2.3.0)\n",
            "Requirement already satisfied: certifi>=2017.4.17 in /usr/local/lib/python3.11/dist-packages (from requests->transformers) (2024.12.14)\n"
          ]
        }
      ],
      "source": [
        "! pip install transformers"
      ]
    },
    {
      "cell_type": "code",
      "source": [
        "from transformers import pipeline"
      ],
      "metadata": {
        "id": "WjWBtVVHOOaS"
      },
      "execution_count": 3,
      "outputs": []
    },
    {
      "cell_type": "code",
      "source": [
        "unmasker = pipeline('fill-mask', model='bert-base-uncased')\n",
        "unmasker(\"Artificial Intelligence [MASK] take over the world.\")"
      ],
      "metadata": {
        "colab": {
          "base_uri": "https://localhost:8080/"
        },
        "id": "2CFshA0TOaQu",
        "outputId": "03fae6b2-d355-460d-847b-fdd6eea8effd"
      },
      "execution_count": 4,
      "outputs": [
        {
          "output_type": "stream",
          "name": "stderr",
          "text": [
            "Some weights of the model checkpoint at bert-base-uncased were not used when initializing BertForMaskedLM: ['bert.pooler.dense.bias', 'bert.pooler.dense.weight', 'cls.seq_relationship.bias', 'cls.seq_relationship.weight']\n",
            "- This IS expected if you are initializing BertForMaskedLM from the checkpoint of a model trained on another task or with another architecture (e.g. initializing a BertForSequenceClassification model from a BertForPreTraining model).\n",
            "- This IS NOT expected if you are initializing BertForMaskedLM from the checkpoint of a model that you expect to be exactly identical (initializing a BertForSequenceClassification model from a BertForSequenceClassification model).\n",
            "Device set to use cpu\n"
          ]
        },
        {
          "output_type": "execute_result",
          "data": {
            "text/plain": [
              "[{'score': 0.31824102997779846,\n",
              "  'token': 2064,\n",
              "  'token_str': 'can',\n",
              "  'sequence': 'artificial intelligence can take over the world.'},\n",
              " {'score': 0.18299654126167297,\n",
              "  'token': 2097,\n",
              "  'token_str': 'will',\n",
              "  'sequence': 'artificial intelligence will take over the world.'},\n",
              " {'score': 0.05600149929523468,\n",
              "  'token': 2000,\n",
              "  'token_str': 'to',\n",
              "  'sequence': 'artificial intelligence to take over the world.'},\n",
              " {'score': 0.045194968581199646,\n",
              "  'token': 2015,\n",
              "  'token_str': '##s',\n",
              "  'sequence': 'artificial intelligences take over the world.'},\n",
              " {'score': 0.045153141021728516,\n",
              "  'token': 2052,\n",
              "  'token_str': 'would',\n",
              "  'sequence': 'artificial intelligence would take over the world.'}]"
            ]
          },
          "metadata": {},
          "execution_count": 4
        }
      ]
    },
    {
      "cell_type": "code",
      "source": [
        "unmasker(\"In this world man mostly worked as a [MASK] to support their family .\")"
      ],
      "metadata": {
        "colab": {
          "base_uri": "https://localhost:8080/"
        },
        "id": "3E4MYIiDPL5H",
        "outputId": "e5e8e7ac-7126-4299-e806-c1321861e139"
      },
      "execution_count": 10,
      "outputs": [
        {
          "output_type": "execute_result",
          "data": {
            "text/plain": [
              "[{'score': 0.18419575691223145,\n",
              "  'token': 7947,\n",
              "  'token_str': 'servant',\n",
              "  'sequence': 'in this world man mostly worked as a servant to support their family.'},\n",
              " {'score': 0.16161823272705078,\n",
              "  'token': 7500,\n",
              "  'token_str': 'farmer',\n",
              "  'sequence': 'in this world man mostly worked as a farmer to support their family.'},\n",
              " {'score': 0.08755779266357422,\n",
              "  'token': 6658,\n",
              "  'token_str': 'slave',\n",
              "  'sequence': 'in this world man mostly worked as a slave to support their family.'},\n",
              " {'score': 0.0696892961859703,\n",
              "  'token': 5268,\n",
              "  'token_str': 'soldier',\n",
              "  'sequence': 'in this world man mostly worked as a soldier to support their family.'},\n",
              " {'score': 0.06695488095283508,\n",
              "  'token': 3836,\n",
              "  'token_str': 'teacher',\n",
              "  'sequence': 'in this world man mostly worked as a teacher to support their family.'}]"
            ]
          },
          "metadata": {},
          "execution_count": 10
        }
      ]
    },
    {
      "cell_type": "code",
      "source": [
        "unmasker(\"In this world woman mostly worked as a [MASK] to support their family .\")"
      ],
      "metadata": {
        "colab": {
          "base_uri": "https://localhost:8080/"
        },
        "id": "gHRjVVHIQD7R",
        "outputId": "bc7b7c57-e272-42dd-a4bb-486111bf4fc4"
      },
      "execution_count": 11,
      "outputs": [
        {
          "output_type": "execute_result",
          "data": {
            "text/plain": [
              "[{'score': 0.22716915607452393,\n",
              "  'token': 7947,\n",
              "  'token_str': 'servant',\n",
              "  'sequence': 'in this world woman mostly worked as a servant to support their family.'},\n",
              " {'score': 0.13754664361476898,\n",
              "  'token': 19215,\n",
              "  'token_str': 'prostitute',\n",
              "  'sequence': 'in this world woman mostly worked as a prostitute to support their family.'},\n",
              " {'score': 0.10796798020601273,\n",
              "  'token': 10850,\n",
              "  'token_str': 'maid',\n",
              "  'sequence': 'in this world woman mostly worked as a maid to support their family.'},\n",
              " {'score': 0.06516169011592865,\n",
              "  'token': 6658,\n",
              "  'token_str': 'slave',\n",
              "  'sequence': 'in this world woman mostly worked as a slave to support their family.'},\n",
              " {'score': 0.04511139914393425,\n",
              "  'token': 2450,\n",
              "  'token_str': 'woman',\n",
              "  'sequence': 'in this world woman mostly worked as a woman to support their family.'}]"
            ]
          },
          "metadata": {},
          "execution_count": 11
        }
      ]
    },
    {
      "cell_type": "code",
      "source": [],
      "metadata": {
        "id": "9iboP8mYQfac"
      },
      "execution_count": null,
      "outputs": []
    },
    {
      "cell_type": "code",
      "source": [],
      "metadata": {
        "id": "hSPWE-VH-Ngw"
      },
      "execution_count": null,
      "outputs": []
    }
  ]
}